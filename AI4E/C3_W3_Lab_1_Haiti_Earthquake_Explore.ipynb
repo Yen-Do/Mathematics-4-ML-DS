{
 "cells": [
  {
   "cell_type": "markdown",
   "metadata": {},
   "source": [
    "<h1> Haiti 1 - Loading and Exploring Haiti Data </h1>\n",
    "\n",
    "Welcome to the first practice lab of this specialization! In this notebook, you will look at the text messages that were collected and translated into English during the 2010 Haiti earthquake. The dataset contains not only the Haiti messages, but also messages collected during and after the floods in Pakistan, huricane Sandy in the USA and some news articles. To learn more about the project or the data, take a look at this [GitHub Repository](https://github.com/rmunro/disaster_response_messages)\n",
    "\n",
    "\n",
    "**In this lab you will apply the following steps:**\n",
    "1. Import Python packages\n",
    "2. Inspect the dataset\n",
    "3. Explore the \"related\" feature\n",
    "4. Explore the \"offer and request\" feature\n",
    "5. Explore the dataset date range\n",
    "6. Visualize the frequently used words from the DataFrame using WordCloud"
   ]
  },
  {
   "cell_type": "markdown",
   "metadata": {},
   "source": [
    "<a name='1'></a>\n",
    "## 1. Import Python packages\n",
    "\n",
    "Let's start by loading the packages. Run the next cell to import the Python packages you'll be using in this lab exercise. This is a common first step whenever working with Python. If everything goes well you should see a message when the cell has finished running that says \"All packages imported successfully!\".\n",
    "\n",
    "Note the `import utils` line. This line imports the functions that were specifically written for this lab. If you want to look at what these functions are, go to `File -> Open...` and open the `utils.py` file to have a look."
   ]
  },
  {
   "cell_type": "code",
   "execution_count": null,
   "metadata": {},
   "outputs": [],
   "source": [
    "import pandas as pd\n",
    "\n",
    "import utils\n",
    "\n",
    "print('All packages imported successfully!')"
   ]
  },
  {
   "cell_type": "markdown",
   "metadata": {},
   "source": [
    "<a name='2'></a>\n",
    "## 2. Inspect the dataset\n",
    "\n",
    "In this lab you will mainly focus on the text messages that were collected and translated into English during the **2010 Haiti earthquake**."
   ]
  },
  {
   "cell_type": "markdown",
   "metadata": {},
   "source": [
    "### 2.1 Load the dataset"
   ]
  },
  {
   "cell_type": "code",
   "execution_count": null,
   "metadata": {},
   "outputs": [],
   "source": [
    "# Load the datasets\n",
    "training_data = pd.read_csv(\"data/disaster_response_training.csv\", low_memory=False)\n",
    "validation_data = pd.read_csv(\"data/disaster_response_validation.csv\", low_memory=False)\n",
    "test_data = pd.read_csv(\"data/disaster_response_test.csv\", low_memory=False)\n",
    "\n",
    "# Merge the three datasets\n",
    "full_data = training_data.append(validation_data).append(test_data)\n",
    "\n",
    "# Fix the column data type\n",
    "full_data['original'] = full_data['original'].astype(str)\n",
    "\n",
    "# Count the number of rows in the training dataset\n",
    "print(f'Total number of rows in training dataset: {len(full_data.index)}')\n",
    "\n",
    "# Show the first few rows of data\n",
    "full_data.head()"
   ]
  },
  {
   "cell_type": "markdown",
   "metadata": {},
   "source": [
    "<a name='2-2'></a>\n",
    "### 2.2 - Look at the columns in the dataset"
   ]
  },
  {
   "cell_type": "code",
   "execution_count": null,
   "metadata": {},
   "outputs": [],
   "source": [
    "full_data.columns"
   ]
  },
  {
   "cell_type": "markdown",
   "metadata": {},
   "source": [
    "There are **38** categories, plus the messages themselves and (for Haiti only) the dates of the messages.\n",
    "\n",
    "The categories are hierarchical, with sub-categories for `aid_related`, `infrastructure_related`, and `weather_related`.\n",
    "\n",
    "- `id`: Unique ID number for the messages. The IDs are in (roughly) the order that the messages were written.\n",
    "- `split`: training, validation or test which should correlate with the files the data is shared in.\n",
    "- `message`: the English message\n",
    "- `original`: in the case of non-English messages in Haiti and Pakistan, the original message before translation\n",
    "- `related`: 0, 1 or 2, whether the message is related to a disaster (`1` == yes, `0` == no, `2` == unsure)\n",
    "- `request`: 0 or 1, whether the message is a request for aid\n",
    "- `offer`: 0 or 1, whether the message is offering help\n",
    "- `event`: which event, `haiti_earthquake`, `pakistan_floods`, `usa_sandy`, or `NULL`\n",
    "- `date_haiti`: `YYYY-MM-DD` or `null`, the date the message was sent (Haiti only)\n",
    "- `PII`: 0 or 1, whether the message contains personal identifying information\n",
    "\n",
    "For a detailed description and list of all categories, check out the [disaster response messages GitHub repository](https://github.com/rmunro/disaster_response_messages)"
   ]
  },
  {
   "cell_type": "markdown",
   "metadata": {},
   "source": [
    "<a name='2-3'></a>\n",
    "### 2.3 - Look whether the data contains sensitive information (PII - personal identifying information)\n",
    "In the column `PII`, there is information, whether each row contains any personal identifying information. This dataset has been pre-cleaned, so it should only contain zeroes."
   ]
  },
  {
   "cell_type": "code",
   "execution_count": null,
   "metadata": {},
   "outputs": [],
   "source": [
    "full_data.PII.unique()"
   ]
  },
  {
   "cell_type": "markdown",
   "metadata": {},
   "source": [
    "<a name='2-4'></a>\n",
    "### 2.4 - Look at the events\n",
    "Now you can look at what events does the data contain. The information is stored in the `event` column."
   ]
  },
  {
   "cell_type": "code",
   "execution_count": null,
   "metadata": {},
   "outputs": [],
   "source": [
    "full_data.event.unique()"
   ]
  },
  {
   "cell_type": "markdown",
   "metadata": {},
   "source": [
    "As you can see the data belongs to four categories:\n",
    "- `haiti_earthquake`: SMS messages sent to disaster reporting services following the Haiti earthquake.\n",
    "- `usa_sandy`: Posts from an online disaster-related message board after hurricane Sandy.\n",
    "- `pakistan_floods`: SMS messages sent to disaster reporting services following the Pakistan floods.\n",
    "- `nan`: Data from news articles.\n",
    "\n",
    "Because only the Haiti data has the date column, you will use the Haiti data to perform the analysis from now on. Feel free to look at other data as well (by changing the code below), but because of some missing data for other events, you may encounter errors and have to change the code a bit if you do that."
   ]
  },
  {
   "cell_type": "code",
   "execution_count": null,
   "metadata": {},
   "outputs": [],
   "source": [
    "# Select only the Haiti data\n",
    "haiti_df = full_data[full_data.event == 'haiti_earthquake']\n",
    "\n",
    "# Fixing column data type\n",
    "haiti_df['actionable_haiti'] = haiti_df.actionable_haiti.astype('int64')\n",
    "haiti_df['date_haiti'] = pd.to_datetime(haiti_df.date_haiti)\n",
    "\n",
    "# Count the number of rows in the Haiti dataset\n",
    "print(f'Total number of rows in Haiti dataset: {len(haiti_df.index)}')"
   ]
  },
  {
   "cell_type": "markdown",
   "metadata": {},
   "source": [
    "Check if any of the columns contain null values."
   ]
  },
  {
   "cell_type": "code",
   "execution_count": null,
   "metadata": {},
   "outputs": [],
   "source": [
    "haiti_df.isna().sum()"
   ]
  },
  {
   "cell_type": "markdown",
   "metadata": {},
   "source": [
    "You can see there are no missing values, which is good news."
   ]
  },
  {
   "cell_type": "markdown",
   "metadata": {},
   "source": [
    "## 3. Explore the \"related\" feature\n",
    "\n",
    "The **related** feature has three values 0, 1, or 2, and represents whether the message is related to a disaster. 0 == no, 1 == yes, 2 == unsure"
   ]
  },
  {
   "cell_type": "markdown",
   "metadata": {},
   "source": [
    "### 3.1 Visualize the distrbution of messages"
   ]
  },
  {
   "cell_type": "code",
   "execution_count": null,
   "metadata": {},
   "outputs": [],
   "source": [
    "utils.messages_distribution(haiti_df)"
   ]
  },
  {
   "cell_type": "markdown",
   "metadata": {},
   "source": [
    "### 3.2 Look at examples of related and un-related messages\n",
    "\n",
    "Look at some messages considered related or non-related to disaster. \n",
    "You can use the dropdown menu to change the value of `haiti_df.related` to view the different categorization of `related` messages as well as select only a part of data to show, based on other categories.\n",
    "* `0`: not related to disaster\n",
    "* `1`: related to disaster\n",
    "* `2`: unsure"
   ]
  },
  {
   "cell_type": "code",
   "execution_count": null,
   "metadata": {},
   "outputs": [],
   "source": [
    "utils.show_messages(haiti_df)"
   ]
  },
  {
   "cell_type": "markdown",
   "metadata": {},
   "source": [
    "## 4. Explore the \"offer and request\" feature"
   ]
  },
  {
   "cell_type": "code",
   "execution_count": null,
   "metadata": {},
   "outputs": [],
   "source": [
    "utils.interact_with_filters(utils.offer_request, haiti_df)"
   ]
  },
  {
   "cell_type": "markdown",
   "metadata": {},
   "source": [
    "## 5. Explore the dataset date range"
   ]
  },
  {
   "cell_type": "markdown",
   "metadata": {},
   "source": [
    "### 5.1 - Check the number of messages per day\n",
    "Choose from various topics to see the time dependence of message frequency."
   ]
  },
  {
   "cell_type": "code",
   "execution_count": null,
   "metadata": {
    "hidden": true
   },
   "outputs": [],
   "source": [
    "utils.interact_with_filters(utils.daily_plot, haiti_df)"
   ]
  },
  {
   "cell_type": "markdown",
   "metadata": {},
   "source": [
    "### 5.2 - Check the number of messages per month"
   ]
  },
  {
   "cell_type": "code",
   "execution_count": null,
   "metadata": {},
   "outputs": [],
   "source": [
    "utils.interact_with_filters(utils.monthly_histogram, haiti_df)"
   ]
  },
  {
   "cell_type": "markdown",
   "metadata": {},
   "source": [
    "## 6. Visualize the frequently used words from the DataFrame using WordCloud"
   ]
  },
  {
   "cell_type": "code",
   "execution_count": null,
   "metadata": {},
   "outputs": [],
   "source": [
    "utils.interact_with_filters(utils.plot_wordclouds, haiti_df, remove_stopwords=False)"
   ]
  },
  {
   "cell_type": "markdown",
   "metadata": {},
   "source": [
    "## Conclusion\n",
    "\n",
    "Congratulations! You made it to the end of the first lab in this project and have a far better grasp of what your data contains and the general process for text data exploration! \n",
    "\n",
    "Citation:\n",
    "- Robert Munro. 2012. Processing short message communications in low-resource languages. [PhD dissertation, Stanford University]. Stanford Digital Repository. Retrieved from https://purl.stanford.edu/cg721hb0673"
   ]
  },
  {
   "cell_type": "code",
   "execution_count": null,
   "metadata": {},
   "outputs": [],
   "source": []
  }
 ],
 "metadata": {
  "kernelspec": {
   "display_name": "Python 3",
   "language": "python",
   "name": "python3"
  },
  "language_info": {
   "codemirror_mode": {
    "name": "ipython",
    "version": 3
   },
   "file_extension": ".py",
   "mimetype": "text/x-python",
   "name": "python",
   "nbconvert_exporter": "python",
   "pygments_lexer": "ipython3",
   "version": "3.7.6"
  }
 },
 "nbformat": 4,
 "nbformat_minor": 4
}
