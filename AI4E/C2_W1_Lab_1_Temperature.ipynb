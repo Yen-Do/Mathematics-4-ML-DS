{
 "cells": [
  {
   "cell_type": "markdown",
   "metadata": {},
   "source": [
    "# Global Temperature Change\n",
    "\n",
    "In this notebook, you will work with [temperature data compiled by the National Oceanic and Atmospheric Administration](https://www.ncei.noaa.gov/access/search/dataset-search?observationTypes=Land%20Surface&keywords=d559b900-eca6-42a4-9311-0297b2ef98ab) (NOAA) and [data from the National Aeronautics and Space Administration](https://climate.nasa.gov/climate_resources/139/video-global-warming-from-1880-to-2022/) (NASA) covering the years 1880 to 2021. \n",
    "\n",
    "Here are the steps you will complete in this notebook: \n",
    "\n",
    "1. Import Python packages.\n",
    "2. Load and inspect the dataset.\n",
    "3. Visualize global average temperature rise\n",
    "4. Visualize local temperature behavior around the globe\n",
    "5. Visualize global temperature anomalies\n",
    "6. Visualize the impact of temperature rise"
   ]
  },
  {
   "cell_type": "markdown",
   "metadata": {},
   "source": [
    "## 1. Import Python Packages\n",
    "\n",
    "Run the next cell to import the Python packages you'll be using in this lab exercise. This is a common first step whenever working with Python. If everything goes well you should see a message when the cell has finished running that says \"All packages imported successfully!\".\n",
    "\n",
    "Note the `import utils` line. This line imports the functions that were specifically written for this lab. If you want to look at what these functions are, go to `File -> Open...` and open the `utils.py` file to have a look."
   ]
  },
  {
   "cell_type": "code",
   "execution_count": null,
   "metadata": {},
   "outputs": [],
   "source": [
    "# Import libraries\n",
    "%matplotlib notebook\n",
    "\n",
    "import utils \n",
    "import pandas as pd\n",
    "import numpy as np\n",
    "import IPython\n",
    "from itables import init_notebook_mode\n",
    "init_notebook_mode(all_interactive = False)\n",
    "print('All packages imported successfully!')"
   ]
  },
  {
   "cell_type": "markdown",
   "metadata": {},
   "source": [
    "## 2. Load and Inspect the Dataset\n",
    "\n",
    "NOAA offers lots of publicly available weather data you can work with. Here, you will read in a **C**omma **S**eparated **V**alues (CSV) file containing the average yearly temperature for multiple land-based weather stations around the world. Run the next cell to load this data into your notebook. "
   ]
  },
  {
   "cell_type": "code",
   "execution_count": null,
   "metadata": {},
   "outputs": [],
   "source": [
    "temperature_data = pd.read_csv('data/global_temperature.csv') #import the data\n",
    "temperature_data.columns.values[4:] = temperature_data.columns[4:].map(int) #column names to int for easy manipulation\n",
    "print('the dataset contains', len(temperature_data), 'rows')\n",
    "temperature_data.tail()"
   ]
  },
  {
   "cell_type": "markdown",
   "metadata": {},
   "source": [
    "## 3. Visualize Global Average Temperature Rise <a class=\"anchor\" id=\"global\"></a>"
   ]
  },
  {
   "cell_type": "markdown",
   "metadata": {},
   "source": [
    "Many climate change reports calculate global average temperature rise relative to a baseline that is the global average temperature in the pre-industrial period from 1850-1900. In practice, the global temperature data available prior to 1900 is sparse and therefore the pre-industrial level is often calculated by taking the average from 1981 through 2010 and subtracting 0.69 degrees celsius and that's what you'll do in the next cell. You can [learn more about how this offset is calculated here](https://climate.metoffice.cloud/temperature.html). \n",
    "\n",
    "When you run the next cell, you'll create a bar plot where a <span style=\"color: blue\">negative value (in blue)</span> indicates that the temperature in that year was below the baseline, while a <span style=\"color: red\">positive value (in red)</span> indicates a warmer than baseline year. You can <strong>left-click on any bar to get the exact value of that year</strong>. If you want to <strong>delete any of the labels you added, you have to right-click</strong> on the top of the label. "
   ]
  },
  {
   "cell_type": "code",
   "execution_count": null,
   "metadata": {},
   "outputs": [],
   "source": [
    "# Selection of the columns with the time series\n",
    "plot_data = temperature_data[np.array(range(1880,2022,1))]\n",
    "# Get difference with baseline\n",
    "diff = plot_data.sub(plot_data.iloc[:, 101:132].dropna().mean(axis=1) - 0.69, axis=0)  \n",
    "\n",
    "# Create the bar chart\n",
    "utils.bar_global(diff)"
   ]
  },
  {
   "cell_type": "markdown",
   "metadata": {},
   "source": [
    "## 4. Visualize Local Temperature Behavior Around the Globe<a class=\"anchor\" id=\"local\"></a>"
   ]
  },
  {
   "cell_type": "markdown",
   "metadata": {},
   "source": [
    "Temperature changes differently at different locations. For some places, the temperature is rising; for others, the change is not apparent or negligible, while for some points temperature appears to be decreasing over time. \n",
    "\n",
    "Run the next cell to plot a map with the weather station locations in the dataset. For each one of those points, <strong>you can click and explore</strong> a bar plot like the one you studied in the previous section. In this case, the baseline you're comparing against is simply the average temperature over the full range of the data at that location. Explore the map and see if you can find places where the temperature trend differs from what is happening globally. "
   ]
  },
  {
   "cell_type": "code",
   "execution_count": null,
   "metadata": {},
   "outputs": [],
   "source": [
    "utils.local_temp_map(temperature_data)"
   ]
  },
  {
   "cell_type": "markdown",
   "metadata": {},
   "source": [
    "## 5. Visualize Global Temperature Anomalies <a class=\"anchor\" id=\"century\"></a>"
   ]
  },
  {
   "cell_type": "markdown",
   "metadata": {},
   "source": [
    "When you run the next cell, you'll generate a visual of the maps that were shown at the end of the last video. These [maps were constructed by NASA](https://climate.nasa.gov/climate_resources/139/video-global-warming-from-1880-to-2022/) to show temperature differences around the globe over the years 1884 to 2020. You can [learn more about the analysis used to create these maps here](https://climate.nasa.gov/vital-signs/global-temperature/).\n",
    "\n",
    "<strong>To change the year of the map in the visualization, move the slider until the year you want to visualize</strong>. "
   ]
  },
  {
   "cell_type": "code",
   "execution_count": null,
   "metadata": {},
   "outputs": [],
   "source": [
    "utils.slider_global_temp()"
   ]
  },
  {
   "cell_type": "markdown",
   "metadata": {},
   "source": [
    "## 6. Visualize the Impact of Temperature Rise <a class=\"anchor\" id=\"consequences\"></a>"
   ]
  },
  {
   "cell_type": "markdown",
   "metadata": {},
   "source": [
    "To wrap up this lab, you will see [satellite imagery from NASA](https://climate.nasa.gov/images-of-change?id=796#796-collapsing-ice-shelf-reveals-a-possible-new-island-eastern-antarctica) demonstrating how glaciers are receding due to global warming. You can interact with each visualization by moving the slider from right to left to look at the images from a previous point in time and from right to left to see them in recent times.  "
   ]
  },
  {
   "cell_type": "markdown",
   "metadata": {},
   "source": [
    "### Melting Ice Shelf in Antarctica <a class=\"anchor\" id=\"antarctica\"></a>"
   ]
  },
  {
   "cell_type": "markdown",
   "metadata": {},
   "source": [
    "Run the following cell, to visualize the state of the <a href=\"https://www.google.com/maps/place/Glenzer+Glacier/@-65.4494081,102.4040761,149178m/data=!3m1!1e3!4m5!3m4!1s0xaddefc6d31f95cdb:0x2278b8149d1a30d5!8m2!3d-65.966667!4d103.2499999!5m1!1e4\" >Glenzer and Conger ice shelves in Antartica</a>, using satellite imagery from November 1989, and January 2022. "
   ]
  },
  {
   "cell_type": "code",
   "execution_count": null,
   "metadata": {
    "scrolled": false
   },
   "outputs": [],
   "source": [
    "#https://climate.nasa.gov/images-of-change/?id=796#796-collapsing-ice-shelf-reveals-a-possible-new-island-eastern-antarctica\n",
    "src = 'https://cdn.knightlab.com/libs/juxtapose/latest/embed/index.html?uid=dab72496-6d1f-11ed-b5bd-6595d9b17862'\n",
    "IPython.display.IFrame(src, width = 700, height = 720)"
   ]
  },
  {
   "cell_type": "markdown",
   "metadata": {},
   "source": [
    "### Melting Glaciers in Tibet <a class=\"anchor\" id=\"tibet\"></a>"
   ]
  },
  {
   "cell_type": "markdown",
   "metadata": {},
   "source": [
    "Here, you can compare satellite imagery from October 1987 and October 2021 in the <a href=\"https://www.google.com/maps/place/Dorsoidong+Co/@33.4729454,89.7281098,81649m/data=!3m1!1e3!4m5!3m4!1s0x39d5edea3893bf41:0xc4f257040a288b56!8m2!3d33.3666667!4d89.8333333!5m1!1e4\">Tibetan Plateau</a>. Rising temperatures have melted some of the glaciers in that region, enlarging some of the lakes there. "
   ]
  },
  {
   "cell_type": "code",
   "execution_count": null,
   "metadata": {},
   "outputs": [],
   "source": [
    "#https://climate.nasa.gov/images-of-change/?id=778#778-melting-glaciers-enlarge-lakes-on-tibetan-plateau\n",
    "src = 'https://cdn.knightlab.com/libs/juxtapose/latest/embed/index.html?uid=269f7416-6d21-11ed-b5bd-6595d9b17862'\n",
    "IPython.display.IFrame(src, width = 750, height = 520)"
   ]
  },
  {
   "cell_type": "markdown",
   "metadata": {},
   "source": [
    "### Glacier Retreat in Alaska <a class=\"anchor\" id=\"alaska\"></a>"
   ]
  },
  {
   "cell_type": "markdown",
   "metadata": {},
   "source": [
    "Next, you will compare satellite images from September 1984 and September 2019 showing the <a href= \"https://www.google.com/maps/place/Grand+Plateau+Glacier/@59.0949234,-138.0848397,35549m/data=!3m1!1e3!4m5!3m4!1s0x56aa2da5a844e665:0xc5932e54ca2c6a43!8m2!3d59.0430556!4d-137.8844444!5m1!1e4\">Grand Plateau glacier in the Glacier Bay National Park in southeast Alaska</a>. In that comparison, you will see how two glaciers' arms have retreated over the years. "
   ]
  },
  {
   "cell_type": "code",
   "execution_count": null,
   "metadata": {},
   "outputs": [],
   "source": [
    "#https://climate.nasa.gov/images-of-change?id=777#777-grand-plateau-glacier-retreats\n",
    "src = 'https://cdn.knightlab.com/libs/juxtapose/latest/embed/index.html?uid=0c37b40e-7027-11ed-b5bd-6595d9b17862'\n",
    "IPython.display.IFrame(src, width = 700, height = 550)"
   ]
  },
  {
   "cell_type": "code",
   "execution_count": null,
   "metadata": {},
   "outputs": [],
   "source": []
  }
 ],
 "metadata": {
  "kernelspec": {
   "display_name": "Python 3",
   "language": "python",
   "name": "python3"
  },
  "language_info": {
   "codemirror_mode": {
    "name": "ipython",
    "version": 3
   },
   "file_extension": ".py",
   "mimetype": "text/x-python",
   "name": "python",
   "nbconvert_exporter": "python",
   "pygments_lexer": "ipython3",
   "version": "3.7.6"
  }
 },
 "nbformat": 4,
 "nbformat_minor": 2
}
