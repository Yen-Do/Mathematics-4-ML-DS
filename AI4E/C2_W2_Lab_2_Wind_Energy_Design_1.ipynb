{
 "cells": [
  {
   "cell_type": "markdown",
   "metadata": {},
   "source": [
    "# Wind Power Forecasting: Design Phase (Part 1)\n",
    "\n",
    "\n",
    "In the previous lab, you performed an exploratory analysis of the [SDWPF dataset](https://arxiv.org/abs/2208.04360), which contains data from 134 wind turbines from a wind farm in China. The SDWPF data was provided by the Longyuan Power Group, which is the largest wind power producer in China and Asia.\n",
    "\n",
    "In this lab you will begin to design a solution for wind power forecasting. The steps you will complete in this lab are:\n",
    "\n",
    "1. Import Python packages\n",
    "2. Load the dataset\n",
    "3. Catalog abnormal values\n",
    "4. Establish a baseline for wind energy estimation\n",
    "5. Perform feature engineering \\\n",
    "    5.1 Delete redundant features - Pab \\\n",
    "    5.2 Transform angle features \\\n",
    "    5.3 Fix temperatures and active power features \\\n",
    "    5.4 Create time features\n",
    "6. Update linear model baseline with more features\n",
    "7. Use a neural network to improve wind power estimation"
   ]
  },
  {
   "cell_type": "markdown",
   "metadata": {},
   "source": [
    "## 1. Import Python packages\n",
    "\n",
    "Run the next cell to import that Python packages you'll need for this lab.\n",
    "\n",
    "Note the `import utils` line. This line imports the functions that were specifically written for this lab. If you want to look at what these functions are, go to `File -> Open...` and open the `utils.py` file to have a look."
   ]
  },
  {
   "cell_type": "code",
   "execution_count": null,
   "metadata": {
    "scrolled": false
   },
   "outputs": [],
   "source": [
    "import numpy as np # package for numerical calculations\n",
    "import pandas as pd # package for reading in and manipulating data\n",
    "import utils # utility functions for this lab\n",
    "\n",
    "print('All packages imported successfully!')"
   ]
  },
  {
   "cell_type": "markdown",
   "metadata": {},
   "source": [
    "## 2. Load the dataset\n",
    "\n",
    "\n",
    "The original dataset contains information of 134 turbines, and when you run the next cell you will read in the data, then perform the same steps you ran in the last lab, namely, select the top 10 turbines that produced the most power on average, and convert the day and timestamp columns into a single datetime column."
   ]
  },
  {
   "cell_type": "code",
   "execution_count": null,
   "metadata": {
    "scrolled": false
   },
   "outputs": [],
   "source": [
    "# Load the data from the csv file\n",
    "raw_data = pd.read_csv(\"./data/wtbdata_245days.csv\")\n",
    "\n",
    "# Select only the top 10 turbines\n",
    "top_turbines = utils.top_n_turbines(raw_data, 10)\n",
    "\n",
    "# Format datetime (this takes around 15 secs)\n",
    "top_turbines = utils.format_datetime(top_turbines, initial_date_str=\"01 05 2020\")\n",
    "\n",
    "# Print out the first few lines of data\n",
    "top_turbines.head()"
   ]
  },
  {
   "cell_type": "markdown",
   "metadata": {},
   "source": [
    "## 3. Catalog abnormal values"
   ]
  },
  {
   "cell_type": "markdown",
   "metadata": {},
   "source": [
    "If you read the paper associated with this dataset you will see a section called `Caveats about the data`, which mentions that some values should be excluded from the analysis because they are either `missing`, `unknown` or `abnormal`. \n",
    "\n",
    "`missing` values are self explanatory but here are the definitions for the other two types:\n",
    "\n",
    "`unknown`:\n",
    "- if `Patv` ≤ 0 and `Wspd` > 2.5\n",
    "- if `Pab1` > 89° or `Pab2` > 89° or `Pab3` > 89° \n",
    "\n",
    "`abnormal`:\n",
    "- if `Ndir` < -720 or `Ndir` > 720\n",
    "- if `Wdir` < -180 or `Wdir` > 180\n",
    "\n",
    "When you run the next cell you will create a new column called `Include` in the dataframe and set the value to False for every `missing / unknown / abnormal` value:"
   ]
  },
  {
   "cell_type": "code",
   "execution_count": null,
   "metadata": {
    "scrolled": false
   },
   "outputs": [],
   "source": [
    "# Initially include all rows\n",
    "top_turbines[\"Include\"] = True\n",
    "\n",
    "# Define conditions for abnormality\n",
    "conditions = [\n",
    "    np.isnan(top_turbines.Patv),\n",
    "    (top_turbines.Pab1 > 89) | (top_turbines.Pab2 > 89) | (top_turbines.Pab3 > 89),\n",
    "    (top_turbines.Ndir < -720) | (top_turbines.Ndir > 720),\n",
    "    (top_turbines.Wdir < -180) | (top_turbines.Wdir > 180),\n",
    "    (top_turbines.Patv <= 0) & (top_turbines.Wspd > 2.5)\n",
    "]\n",
    "\n",
    "# Exclude abnormal features\n",
    "for condition in conditions:\n",
    "    top_turbines = utils.tag_abnormal_values(top_turbines, condition)\n",
    "    \n",
    "top_turbines.head()"
   ]
  },
  {
   "cell_type": "markdown",
   "metadata": {},
   "source": [
    "Now run the next cell to create the `clean_data` dataframe which no longer includes all data since abnormal values have been removed:"
   ]
  },
  {
   "cell_type": "code",
   "execution_count": null,
   "metadata": {
    "scrolled": false
   },
   "outputs": [],
   "source": [
    "# Cut out all abnormal values\n",
    "clean_data = top_turbines[top_turbines.Include].drop([\"Include\"], axis=1)\n",
    "\n",
    "clean_data.head()"
   ]
  },
  {
   "cell_type": "markdown",
   "metadata": {},
   "source": [
    "## 4. Establish a baseline for wind power estimation\n",
    "\n",
    "Before moving forward you will create a baseline for wind power estimation using a `linear regression` model to fit the relationship between wind speed and power output.  \n",
    "\n",
    "You can use the dropdown to train a linear model for of of the turbines and see how it performs by looking at a plot of predicted vs actual power output values and mean absolute error for the model. "
   ]
  },
  {
   "cell_type": "code",
   "execution_count": null,
   "metadata": {
    "scrolled": false
   },
   "outputs": [],
   "source": [
    "utils.linear_univariate_model(clean_data)"
   ]
  },
  {
   "cell_type": "markdown",
   "metadata": {},
   "source": [
    "## 5. Feature engineering"
   ]
  },
  {
   "cell_type": "markdown",
   "metadata": {},
   "source": [
    "Before building a model capable of estimating power output from the other features you need to perform some `Feature Engineering`. During this process you will transform your existing features into better representations, combine features, fix issues with them and create new features."
   ]
  },
  {
   "cell_type": "markdown",
   "metadata": {},
   "source": [
    "### 5.1  Delete redundant features - Pab\n",
    "\n",
    "In the previous lab you saw that all the `Pab#` features (which stands for `pitch angle blade #`) were perfectly correlated, which means that they are redundant. You can instead keep only one of these features and rename it as `Pab`. Run the next cell to keep only 1 column of `Pab` features."
   ]
  },
  {
   "cell_type": "code",
   "execution_count": null,
   "metadata": {
    "scrolled": false
   },
   "outputs": [],
   "source": [
    "# Aggregate pab features\n",
    "clean_data = utils.cut_pab_features(clean_data)\n",
    "\n",
    "clean_data.head(5)"
   ]
  },
  {
   "cell_type": "markdown",
   "metadata": {},
   "source": [
    "### 5.2 Transform angle features\n",
    "\n",
    "There are 3 features (`Wdir`, `Ndir`, `Pab`) which are encoded in degrees. This is problematic because your model has no way of knowing that angles with very different values (such as 0° and 360°) are actually very similar (the same in this case) to each other. To address this you can transform these features into their `sine`/`cosine` representations. \n",
    "\n",
    "Run the next cell to convert angle features to their `sine`/`cosine` representations."
   ]
  },
  {
   "cell_type": "code",
   "execution_count": null,
   "metadata": {
    "scrolled": false
   },
   "outputs": [],
   "source": [
    "# Transform all angle-encoded features\n",
    "for feature in [\"Wdir\", \"Ndir\", \"Pab\"]:\n",
    "    utils.transform_angles(clean_data, feature)  \n",
    "    \n",
    "clean_data.head(5)"
   ]
  },
  {
   "cell_type": "markdown",
   "metadata": {},
   "source": [
    "### 5.3 Fix temperatures and active power\n",
    "\n",
    "You might remember from the previous lab that both `Etmp` and `Itmp` had really negative values. In fact, these minimum values are very close to the absolute zero (-273.15 °C) which is most certainly an error. Here you will use linear interpolation to fix these values.\n",
    "\n",
    "Active power has negative values which doesn't make sense in the context of the problem at hand. The paper also addresses this issue by mentioning that all negative values should be treated as zero. \n",
    "\n",
    "You can apply these changes by running the following cell:"
   ]
  },
  {
   "cell_type": "code",
   "execution_count": null,
   "metadata": {
    "scrolled": false
   },
   "outputs": [],
   "source": [
    "# Fix temperature values\n",
    "clean_data = utils.fix_temperatures(clean_data)\n",
    "\n",
    "# Fix negative active powers\n",
    "clean_data[\"Patv\"] = clean_data[\"Patv\"].apply(lambda x: max(0, x))\n",
    "\n",
    "clean_data.head(5)"
   ]
  },
  {
   "cell_type": "markdown",
   "metadata": {},
   "source": [
    "### 5.4 Create time features\n",
    "\n",
    "You will create features that encode the time-of-day signals for each data point in the dataset. \n",
    "\n",
    "If you curious about how this encoding works be sure to check out this [post](https://developer.nvidia.com/blog/three-approaches-to-encoding-time-information-as-features-for-ml-models/). "
   ]
  },
  {
   "cell_type": "code",
   "execution_count": null,
   "metadata": {
    "scrolled": false
   },
   "outputs": [],
   "source": [
    "# Generate time signals\n",
    "clean_data = utils.generate_time_signals(clean_data)\n",
    "\n",
    "clean_data.head(5)"
   ]
  },
  {
   "cell_type": "markdown",
   "metadata": {},
   "source": [
    "Run the next cell to do a final step to prepare your data for modeling."
   ]
  },
  {
   "cell_type": "code",
   "execution_count": null,
   "metadata": {
    "scrolled": false
   },
   "outputs": [],
   "source": [
    "# Define predictor features \n",
    "predictors = [f for f in clean_data.columns if f not in [\"Datetime\", \"TurbID\", \"Patv\"]]\n",
    "\n",
    "# Define target feature\n",
    "target = [\"Patv\"]\n",
    "\n",
    "# Re-arrange features before feeding into models\n",
    "model_data = clean_data[[\"TurbID\"]+predictors+target]\n",
    "\n",
    "model_data.head(5)"
   ]
  },
  {
   "cell_type": "markdown",
   "metadata": {},
   "source": [
    "## 6. Update linear model baseline with more features\n",
    "\n",
    "Now that you have performed some feature engineering phase it's time to try some more modeling with your new set of  features. You can use the dropdown to select the turbine to model and choose from the list of features you want to include in the model. Use the shift and arrow keys on your keyboard to select the features you wish to include and then click on the `Run Interact` button to train your model.\n",
    "\n",
    "Notice that since you are including more features it is not possible to visualize the fitted model in 2 dimensions. With this in mind, that plot is replaced by one that shows the average feature importance for every feature you include:"
   ]
  },
  {
   "cell_type": "code",
   "execution_count": null,
   "metadata": {
    "scrolled": false
   },
   "outputs": [],
   "source": [
    "# Create a linear model with more features\n",
    "utils.linear_multivariate_model(model_data, predictors)\n",
    "# Running the interaction below might take a minute"
   ]
  },
  {
   "cell_type": "markdown",
   "metadata": {},
   "source": [
    "## 7. Use a neural network to improve wind power estimation\n",
    "\n",
    "Now you will train a neural network model for comparison. As in the previous section you can use the dropdown to select the turbine to model and choose features you want to include from the list. Click on the `Run Interact` button to train the network and output the results."
   ]
  },
  {
   "cell_type": "code",
   "execution_count": null,
   "metadata": {
    "scrolled": false
   },
   "outputs": [],
   "source": [
    "# Train a neural network model\n",
    "utils.neural_network(model_data, predictors)\n",
    "# Running the interaction below might take a minute"
   ]
  },
  {
   "cell_type": "markdown",
   "metadata": {},
   "source": [
    "## **Congratulations on finishing this lab!**\n",
    "\n",
    "**Keep up the good work :)**"
   ]
  },
  {
   "cell_type": "code",
   "execution_count": null,
   "metadata": {},
   "outputs": [],
   "source": []
  }
 ],
 "metadata": {
  "kernelspec": {
   "display_name": "Python 3",
   "language": "python",
   "name": "python3"
  },
  "language_info": {
   "codemirror_mode": {
    "name": "ipython",
    "version": 3
   },
   "file_extension": ".py",
   "mimetype": "text/x-python",
   "name": "python",
   "nbconvert_exporter": "python",
   "pygments_lexer": "ipython3",
   "version": "3.8.8"
  }
 },
 "nbformat": 4,
 "nbformat_minor": 4
}
